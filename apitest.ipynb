{
 "cells": [
  {
   "cell_type": "code",
   "execution_count": 1,
   "metadata": {},
   "outputs": [],
   "source": [
    "import requests\n"
   ]
  },
  {
   "cell_type": "code",
   "execution_count": 3,
   "metadata": {},
   "outputs": [
    {
     "name": "stdout",
     "output_type": "stream",
     "text": [
      "Request successful!\n",
      "472674\n"
     ]
    }
   ],
   "source": [
    "url = 'url = 'https://flask-api-problem4.herokuapp.com/predict'

params = {'vol_moving_avg': 12345, 'adj_close_rolling_med': 25}


response = requests.get(url, params=params)


if response.status_code == 200:
    print('Request successful!')
else:
    print('Request failed.')

output_data = response.json()

print(output_data)
/predict'\n",
    "\n",
    "params = {'vol_moving_avg': 12345, 'adj_close_rolling_med': 25}\n",
    "\n",
    "\n",
    "response = requests.get(url, params=params)\n",
    "\n",
    "\n",
    "if response.status_code == 200:\n",
    "    print('Request successful!')\n",
    "else:\n",
    "    print('Request failed.')\n",
    "\n",
    "output_data = response.json()\n",
    "\n",
    "print(output_data)\n"
   ]
  }
 ],
 "metadata": {
  "kernelspec": {
   "display_name": "Python 3",
   "language": "python",
   "name": "python3"
  },
  "language_info": {
   "codemirror_mode": {
    "name": "ipython",
    "version": 3
   },
   "file_extension": ".py",
   "mimetype": "text/x-python",
   "name": "python",
   "nbconvert_exporter": "python",
   "pygments_lexer": "ipython3",
   "version": "3.10.7"
  },
  "orig_nbformat": 4
 },
 "nbformat": 4,
 "nbformat_minor": 2
}
